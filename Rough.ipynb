{
 "cells": [
  {
   "cell_type": "code",
   "execution_count": 1,
   "id": "d075bd2f-3610-4d3b-ae41-e3fd56dbf392",
   "metadata": {},
   "outputs": [],
   "source": [
    "import pandas as pd"
   ]
  },
  {
   "cell_type": "code",
   "execution_count": 2,
   "id": "41074c8b-172a-4910-99d3-6ff10b3aecfa",
   "metadata": {},
   "outputs": [],
   "source": [
    "raw_data = pd.read_csv(\"C:/Users/Z004CRTK/AniccaData/config/car_price.csv\")"
   ]
  },
  {
   "cell_type": "code",
   "execution_count": 6,
   "id": "26817164-51b8-49b5-91dd-4f3950ca2fbd",
   "metadata": {},
   "outputs": [
    {
     "data": {
      "text/plain": [
       "car_ID                int64\n",
       "symboling             int64\n",
       "CarName              object\n",
       "fueltype             object\n",
       "aspiration           object\n",
       "doornumber           object\n",
       "carbody              object\n",
       "drivewheel           object\n",
       "enginelocation       object\n",
       "wheelbase           float64\n",
       "carlength           float64\n",
       "carwidth            float64\n",
       "carheight           float64\n",
       "curbweight            int64\n",
       "enginetype           object\n",
       "cylindernumber       object\n",
       "enginesize            int64\n",
       "fuelsystem           object\n",
       "boreratio           float64\n",
       "stroke              float64\n",
       "compressionratio    float64\n",
       "horsepower            int64\n",
       "peakrpm               int64\n",
       "citympg               int64\n",
       "highwaympg            int64\n",
       "price               float64\n",
       "dtype: object"
      ]
     },
     "execution_count": 6,
     "metadata": {},
     "output_type": "execute_result"
    }
   ],
   "source": [
    "raw_data.dtypes"
   ]
  },
  {
   "cell_type": "code",
   "execution_count": 56,
   "id": "0a2d4d84-b7a1-4856-92f2-e15c3013a74f",
   "metadata": {},
   "outputs": [
    {
     "name": "stdout",
     "output_type": "stream",
     "text": [
      "Index([54], dtype='int64')\n"
     ]
    }
   ],
   "source": [
    "my_car_id = 55\n",
    "\n",
    "index = raw_data.index[raw_data['car_ID'] == my_car_id]\n",
    "\n",
    "if not index.empty:\n",
    "    print(index)\n",
    "else:\n",
    "    print('index not found')\n",
    "\n",
    "# if my_car_id in raw_data.car_ID:\n",
    "#     print(raw_data.columns.get_loc('car_ID'))"
   ]
  },
  {
   "cell_type": "code",
   "execution_count": 60,
   "id": "d0d5393a-487d-4084-bd06-3b25d2249efb",
   "metadata": {},
   "outputs": [
    {
     "data": {
      "text/plain": [
       "54"
      ]
     },
     "execution_count": 60,
     "metadata": {},
     "output_type": "execute_result"
    }
   ],
   "source": [
    "index.values[0]"
   ]
  }
 ],
 "metadata": {
  "kernelspec": {
   "display_name": "Python 3 (ipykernel)",
   "language": "python",
   "name": "python3"
  },
  "language_info": {
   "codemirror_mode": {
    "name": "ipython",
    "version": 3
   },
   "file_extension": ".py",
   "mimetype": "text/x-python",
   "name": "python",
   "nbconvert_exporter": "python",
   "pygments_lexer": "ipython3",
   "version": "3.11.4"
  }
 },
 "nbformat": 4,
 "nbformat_minor": 5
}
