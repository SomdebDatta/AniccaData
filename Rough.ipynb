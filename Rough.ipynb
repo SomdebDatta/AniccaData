{
 "cells": [
  {
   "cell_type": "code",
   "execution_count": 1,
   "id": "d075bd2f-3610-4d3b-ae41-e3fd56dbf392",
   "metadata": {},
   "outputs": [],
   "source": [
    "import pandas as pd"
   ]
  },
  {
   "cell_type": "code",
   "execution_count": 2,
   "id": "41074c8b-172a-4910-99d3-6ff10b3aecfa",
   "metadata": {},
   "outputs": [],
   "source": [
    "raw_data = pd.read_csv(\"C:/Users/Z004CRTK/AniccaData/config/car_price.csv\")"
   ]
  },
  {
   "cell_type": "code",
   "execution_count": 6,
   "id": "26817164-51b8-49b5-91dd-4f3950ca2fbd",
   "metadata": {},
   "outputs": [
    {
     "data": {
      "text/plain": [
       "car_ID                int64\n",
       "symboling             int64\n",
       "CarName              object\n",
       "fueltype             object\n",
       "aspiration           object\n",
       "doornumber           object\n",
       "carbody              object\n",
       "drivewheel           object\n",
       "enginelocation       object\n",
       "wheelbase           float64\n",
       "carlength           float64\n",
       "carwidth            float64\n",
       "carheight           float64\n",
       "curbweight            int64\n",
       "enginetype           object\n",
       "cylindernumber       object\n",
       "enginesize            int64\n",
       "fuelsystem           object\n",
       "boreratio           float64\n",
       "stroke              float64\n",
       "compressionratio    float64\n",
       "horsepower            int64\n",
       "peakrpm               int64\n",
       "citympg               int64\n",
       "highwaympg            int64\n",
       "price               float64\n",
       "dtype: object"
      ]
     },
     "execution_count": 6,
     "metadata": {},
     "output_type": "execute_result"
    }
   ],
   "source": [
    "raw_data.dtypes"
   ]
  },
  {
   "cell_type": "code",
   "execution_count": 56,
   "id": "0a2d4d84-b7a1-4856-92f2-e15c3013a74f",
   "metadata": {},
   "outputs": [
    {
     "name": "stdout",
     "output_type": "stream",
     "text": [
      "Index([54], dtype='int64')\n"
     ]
    }
   ],
   "source": [
    "my_car_id = 55\n",
    "\n",
    "index = raw_data.index[raw_data['car_ID'] == my_car_id]\n",
    "\n",
    "if not index.empty:\n",
    "    print(index)\n",
    "else:\n",
    "    print('index not found')\n",
    "\n",
    "# if my_car_id in raw_data.car_ID:\n",
    "#     print(raw_data.columns.get_loc('car_ID'))"
   ]
  },
  {
   "cell_type": "code",
   "execution_count": 60,
   "id": "d0d5393a-487d-4084-bd06-3b25d2249efb",
   "metadata": {},
   "outputs": [
    {
     "data": {
      "text/plain": [
       "54"
      ]
     },
     "execution_count": 60,
     "metadata": {},
     "output_type": "execute_result"
    }
   ],
   "source": [
    "index.values[0]"
   ]
  },
  {
   "cell_type": "code",
   "execution_count": 21,
   "id": "58819aea-f559-49f1-b66a-a9cf2b28e7cd",
   "metadata": {},
   "outputs": [
    {
     "name": "stdout",
     "output_type": "stream",
     "text": [
      "car_ID\n",
      "symboling\n",
      "CarName\n",
      "fueltype\n",
      "aspiration\n",
      "doornumber\n",
      "carbody\n",
      "drivewheel\n",
      "enginelocation\n",
      "wheelbase\n",
      "carlength\n",
      "carwidth\n",
      "carheight\n",
      "curbweight\n",
      "enginetype\n",
      "cylindernumber\n",
      "enginesize\n",
      "fuelsystem\n",
      "boreratio\n",
      "stroke\n",
      "compressionratio\n",
      "horsepower\n",
      "peakrpm\n",
      "citympg\n",
      "highwaympg\n",
      "price\n"
     ]
    }
   ],
   "source": [
    "car_ID = 55\n",
    "new_data_dummy = {\n",
    "    'symboling': 'hello',\n",
    "    'CarName': 'safari',\n",
    "    'dummy': 'dummy'\n",
    "}\n",
    "\n",
    "new_data = {\n",
    "    'symboling': 'hello',\n",
    "    'CarName': 'safari'\n",
    "}\n",
    "\n",
    "for col in raw_data.columns:\n",
    "    print(col)"
   ]
  },
  {
   "cell_type": "code",
   "execution_count": 28,
   "id": "61cd2e21-5325-465b-afbf-c02ea05fdc9f",
   "metadata": {},
   "outputs": [
    {
     "name": "stdout",
     "output_type": "stream",
     "text": [
      "dummy not a valid column! Invalid input\n"
     ]
    },
    {
     "ename": "KeyError",
     "evalue": "",
     "output_type": "error",
     "traceback": [
      "\u001b[1;31m---------------------------------------------------------------------------\u001b[0m",
      "\u001b[1;31mKeyError\u001b[0m                                  Traceback (most recent call last)",
      "Cell \u001b[1;32mIn[28], line 4\u001b[0m\n\u001b[0;32m      2\u001b[0m     \u001b[38;5;28;01mif\u001b[39;00m key \u001b[38;5;129;01mnot\u001b[39;00m \u001b[38;5;129;01min\u001b[39;00m raw_data\u001b[38;5;241m.\u001b[39mcolumns:\n\u001b[0;32m      3\u001b[0m         \u001b[38;5;28mprint\u001b[39m(\u001b[38;5;124mf\u001b[39m\u001b[38;5;124m'\u001b[39m\u001b[38;5;132;01m{\u001b[39;00mkey\u001b[38;5;132;01m}\u001b[39;00m\u001b[38;5;124m not a valid column! Invalid input\u001b[39m\u001b[38;5;124m'\u001b[39m)\n\u001b[1;32m----> 4\u001b[0m         \u001b[38;5;28;01mraise\u001b[39;00m \u001b[38;5;167;01mKeyError\u001b[39;00m\n\u001b[0;32m      5\u001b[0m \u001b[38;5;28mprint\u001b[39m(\u001b[38;5;124mf\u001b[39m\u001b[38;5;124m'\u001b[39m\u001b[38;5;124mAll columns valid!\u001b[39m\u001b[38;5;124m'\u001b[39m)\n",
      "\u001b[1;31mKeyError\u001b[0m: "
     ]
    }
   ],
   "source": [
    "for key in new_data_dummy.keys():\n",
    "    if key not in raw_data.columns:\n",
    "        print(f'{key} not a valid column! Invalid input')\n",
    "        raise KeyError\n",
    "print(f'All columns valid!')"
   ]
  },
  {
   "cell_type": "code",
   "execution_count": 29,
   "id": "92473c0a-3d67-4d77-8ec9-4f2549e32914",
   "metadata": {},
   "outputs": [
    {
     "data": {
      "text/plain": [
       "Index([54], dtype='int64')"
      ]
     },
     "execution_count": 29,
     "metadata": {},
     "output_type": "execute_result"
    }
   ],
   "source": [
    "index = raw_data.index[raw_data[\"car_ID\"] == car_ID]\n",
    "index"
   ]
  },
  {
   "cell_type": "code",
   "execution_count": 33,
   "id": "ef469baa-3b21-4d19-8c90-7bee0bb8598e",
   "metadata": {},
   "outputs": [
    {
     "name": "stderr",
     "output_type": "stream",
     "text": [
      "C:\\Users\\Z004CRTK\\AppData\\Local\\Temp\\ipykernel_34576\\2855791415.py:1: SettingWithCopyWarning: \n",
      "A value is trying to be set on a copy of a slice from a DataFrame.\n",
      "Try using .loc[row_indexer,col_indexer] = value instead\n",
      "\n",
      "See the caveats in the documentation: https://pandas.pydata.org/pandas-docs/stable/user_guide/indexing.html#returning-a-view-versus-a-copy\n",
      "  raw_data.iloc[index].CarName = 'Safari'\n"
     ]
    }
   ],
   "source": [
    "raw_data.iloc[index].CarName = 'Safari'"
   ]
  },
  {
   "cell_type": "code",
   "execution_count": 36,
   "id": "8f0813ed-afb5-413a-95cf-1ca389f03171",
   "metadata": {},
   "outputs": [
    {
     "data": {
      "text/plain": [
       "54    mazda glc deluxe\n",
       "Name: CarName, dtype: object"
      ]
     },
     "execution_count": 36,
     "metadata": {},
     "output_type": "execute_result"
    }
   ],
   "source": [
    "raw_data.iloc[index].CarName"
   ]
  },
  {
   "cell_type": "code",
   "execution_count": 39,
   "id": "99440d44-9b23-4adc-aa1d-0d84f0762096",
   "metadata": {},
   "outputs": [],
   "source": [
    "raw_data.loc[index].CarName = 'Safari'"
   ]
  },
  {
   "cell_type": "code",
   "execution_count": 42,
   "id": "ac5bc195-d019-4fe3-bf7c-47efa81df612",
   "metadata": {},
   "outputs": [],
   "source": [
    "raw_data.loc[index, 'CarName'] = 'Safari'"
   ]
  },
  {
   "cell_type": "code",
   "execution_count": 44,
   "id": "06641338-69bd-4058-ae16-038c2992ce0c",
   "metadata": {},
   "outputs": [
    {
     "data": {
      "text/html": [
       "<div>\n",
       "<style scoped>\n",
       "    .dataframe tbody tr th:only-of-type {\n",
       "        vertical-align: middle;\n",
       "    }\n",
       "\n",
       "    .dataframe tbody tr th {\n",
       "        vertical-align: top;\n",
       "    }\n",
       "\n",
       "    .dataframe thead th {\n",
       "        text-align: right;\n",
       "    }\n",
       "</style>\n",
       "<table border=\"1\" class=\"dataframe\">\n",
       "  <thead>\n",
       "    <tr style=\"text-align: right;\">\n",
       "      <th></th>\n",
       "      <th>car_ID</th>\n",
       "      <th>symboling</th>\n",
       "      <th>CarName</th>\n",
       "      <th>fueltype</th>\n",
       "      <th>aspiration</th>\n",
       "      <th>doornumber</th>\n",
       "      <th>carbody</th>\n",
       "      <th>drivewheel</th>\n",
       "      <th>enginelocation</th>\n",
       "      <th>wheelbase</th>\n",
       "      <th>...</th>\n",
       "      <th>enginesize</th>\n",
       "      <th>fuelsystem</th>\n",
       "      <th>boreratio</th>\n",
       "      <th>stroke</th>\n",
       "      <th>compressionratio</th>\n",
       "      <th>horsepower</th>\n",
       "      <th>peakrpm</th>\n",
       "      <th>citympg</th>\n",
       "      <th>highwaympg</th>\n",
       "      <th>price</th>\n",
       "    </tr>\n",
       "  </thead>\n",
       "  <tbody>\n",
       "    <tr>\n",
       "      <th>54</th>\n",
       "      <td>55</td>\n",
       "      <td>1</td>\n",
       "      <td>Safari</td>\n",
       "      <td>gas</td>\n",
       "      <td>std</td>\n",
       "      <td>four</td>\n",
       "      <td>sedan</td>\n",
       "      <td>fwd</td>\n",
       "      <td>front</td>\n",
       "      <td>93.1</td>\n",
       "      <td>...</td>\n",
       "      <td>91</td>\n",
       "      <td>2bbl</td>\n",
       "      <td>3.08</td>\n",
       "      <td>3.15</td>\n",
       "      <td>9.0</td>\n",
       "      <td>68</td>\n",
       "      <td>5000</td>\n",
       "      <td>31</td>\n",
       "      <td>38</td>\n",
       "      <td>7395.0</td>\n",
       "    </tr>\n",
       "  </tbody>\n",
       "</table>\n",
       "<p>1 rows × 26 columns</p>\n",
       "</div>"
      ],
      "text/plain": [
       "    car_ID  symboling CarName fueltype aspiration doornumber carbody  \\\n",
       "54      55          1  Safari      gas        std       four   sedan   \n",
       "\n",
       "   drivewheel enginelocation  wheelbase  ...  enginesize  fuelsystem  \\\n",
       "54        fwd          front       93.1  ...          91        2bbl   \n",
       "\n",
       "    boreratio  stroke compressionratio horsepower  peakrpm citympg  \\\n",
       "54       3.08    3.15              9.0         68     5000      31   \n",
       "\n",
       "    highwaympg   price  \n",
       "54          38  7395.0  \n",
       "\n",
       "[1 rows x 26 columns]"
      ]
     },
     "execution_count": 44,
     "metadata": {},
     "output_type": "execute_result"
    }
   ],
   "source": [
    "raw_data.iloc[index]"
   ]
  },
  {
   "cell_type": "code",
   "execution_count": null,
   "id": "916f8a83-f769-4f6b-9d1d-94e6dbb4a289",
   "metadata": {},
   "outputs": [],
   "source": []
  }
 ],
 "metadata": {
  "kernelspec": {
   "display_name": "Python 3 (ipykernel)",
   "language": "python",
   "name": "python3"
  },
  "language_info": {
   "codemirror_mode": {
    "name": "ipython",
    "version": 3
   },
   "file_extension": ".py",
   "mimetype": "text/x-python",
   "name": "python",
   "nbconvert_exporter": "python",
   "pygments_lexer": "ipython3",
   "version": "3.11.4"
  }
 },
 "nbformat": 4,
 "nbformat_minor": 5
}
